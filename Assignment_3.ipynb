{
 "cells": [
  {
   "cell_type": "markdown",
   "id": "c986a122",
   "metadata": {},
   "source": [
    "# Assignment SQL\n",
    "## Assignment -3 :"
   ]
  },
  {
   "cell_type": "code",
   "execution_count": 1,
   "id": "1fd6ed4a",
   "metadata": {
    "ExecuteTime": {
     "end_time": "2022-05-21T14:43:16.096515Z",
     "start_time": "2022-05-21T14:43:15.349334Z"
    }
   },
   "outputs": [],
   "source": [
    "import mysql.connector as conn\n",
    "mydb = conn.connect(host = \"localhost\" , username = \"root\", passwd = \"Anindita@123\")\n",
    "cursor = mydb.cursor()"
   ]
  },
  {
   "cell_type": "code",
   "execution_count": 2,
   "id": "4720813b",
   "metadata": {
    "ExecuteTime": {
     "end_time": "2022-05-21T14:43:16.111496Z",
     "start_time": "2022-05-21T14:43:16.100538Z"
    }
   },
   "outputs": [],
   "source": [
    "cursor.execute(\"use worker_db\")"
   ]
  },
  {
   "cell_type": "markdown",
   "id": "cfa6a1b5",
   "metadata": {},
   "source": [
    "<b>Q-1. Write an SQL query to print the FIRST_NAME from Worker table after removing white spaces from the right side.</b>"
   ]
  },
  {
   "cell_type": "code",
   "execution_count": 3,
   "id": "f7e9af44",
   "metadata": {
    "ExecuteTime": {
     "end_time": "2022-05-21T14:43:17.685527Z",
     "start_time": "2022-05-21T14:43:17.645314Z"
    }
   },
   "outputs": [
    {
     "data": {
      "text/plain": [
       "[('Donald',),\n",
       " ('Douglas',),\n",
       " ('Jennifer',),\n",
       " ('Michael',),\n",
       " ('Pat',),\n",
       " ('Susan',),\n",
       " ('Hermann',),\n",
       " ('Shelley',),\n",
       " ('William',),\n",
       " ('Steven',),\n",
       " ('Neena',),\n",
       " ('Lex',),\n",
       " ('Alexander',),\n",
       " ('Bruce',),\n",
       " ('David',),\n",
       " ('Valli',),\n",
       " ('Diana',),\n",
       " ('Nancy',),\n",
       " ('Daniel',),\n",
       " ('John',),\n",
       " ('Ismael',),\n",
       " ('Jose Manuel',),\n",
       " ('Luis',),\n",
       " ('Den',),\n",
       " ('Alexander',),\n",
       " ('Shelli',),\n",
       " ('Sigal',),\n",
       " ('Guy',),\n",
       " ('Karen',),\n",
       " ('Matthew',),\n",
       " ('Adam',),\n",
       " ('Payam',),\n",
       " ('Shanta',),\n",
       " ('Kevin',),\n",
       " ('Julia',),\n",
       " ('Irene',),\n",
       " ('James',),\n",
       " ('Steven',),\n",
       " ('Laura',),\n",
       " ('Mozhe',),\n",
       " ('James',),\n",
       " ('TJ',),\n",
       " ('Jason',),\n",
       " ('Michael',),\n",
       " ('Ki',),\n",
       " ('Hazel',),\n",
       " ('Renske',),\n",
       " ('Stephen',),\n",
       " ('John',),\n",
       " ('Joshua',)]"
      ]
     },
     "execution_count": 3,
     "metadata": {},
     "output_type": "execute_result"
    }
   ],
   "source": [
    "cursor.execute(\"SELECT RTRIM(FIRST_NAME) from workers\")\n",
    "cursor.fetchall()"
   ]
  },
  {
   "cell_type": "markdown",
   "id": "cd622a23",
   "metadata": {
    "ExecuteTime": {
     "end_time": "2022-05-19T16:41:09.639787Z",
     "start_time": "2022-05-19T16:41:09.606887Z"
    }
   },
   "source": [
    "<b>Q-2. Write an SQL query that fetches the unique values of DEPARTMENT from Worker table and prints its length.</b>"
   ]
  },
  {
   "cell_type": "code",
   "execution_count": 4,
   "id": "8c9c17e2",
   "metadata": {
    "ExecuteTime": {
     "end_time": "2022-05-21T14:45:55.083413Z",
     "start_time": "2022-05-21T14:45:55.046502Z"
    }
   },
   "outputs": [
    {
     "data": {
      "text/plain": [
       "[('SH_CLERK', 8),\n",
       " ('SH_CLERK', 8),\n",
       " ('AD_ASST', 7),\n",
       " ('MK_MAN', 6),\n",
       " ('MK_REP', 6),\n",
       " ('HR_REP', 6),\n",
       " ('PR_REP', 6),\n",
       " ('AC_MGR', 6),\n",
       " ('AC_ACCOUNT', 10),\n",
       " ('AD_PRES', 7),\n",
       " ('AD_VP', 5),\n",
       " ('AD_VP', 5),\n",
       " ('IT_PROG', 7),\n",
       " ('IT_PROG', 7),\n",
       " ('IT_PROG', 7),\n",
       " ('IT_PROG', 7),\n",
       " ('IT_PROG', 7),\n",
       " ('FI_MGR', 6),\n",
       " ('FI_ACCOUNT', 10),\n",
       " ('FI_ACCOUNT', 10),\n",
       " ('FI_ACCOUNT', 10),\n",
       " ('FI_ACCOUNT', 10),\n",
       " ('FI_ACCOUNT', 10),\n",
       " ('PU_MAN', 6),\n",
       " ('PU_CLERK', 8),\n",
       " ('PU_CLERK', 8),\n",
       " ('PU_CLERK', 8),\n",
       " ('PU_CLERK', 8),\n",
       " ('PU_CLERK', 8),\n",
       " ('ST_MAN', 6),\n",
       " ('ST_MAN', 6),\n",
       " ('ST_MAN', 6),\n",
       " ('ST_MAN', 6),\n",
       " ('ST_MAN', 6),\n",
       " ('ST_CLERK', 8),\n",
       " ('ST_CLERK', 8),\n",
       " ('ST_CLERK', 8),\n",
       " ('ST_CLERK', 8),\n",
       " ('ST_CLERK', 8),\n",
       " ('ST_CLERK', 8),\n",
       " ('ST_CLERK', 8),\n",
       " ('ST_CLERK', 8),\n",
       " ('ST_CLERK', 8),\n",
       " ('ST_CLERK', 8),\n",
       " ('ST_CLERK', 8),\n",
       " ('ST_CLERK', 8),\n",
       " ('ST_CLERK', 8),\n",
       " ('ST_CLERK', 8),\n",
       " ('ST_CLERK', 8),\n",
       " ('ST_CLERK', 8)]"
      ]
     },
     "execution_count": 4,
     "metadata": {},
     "output_type": "execute_result"
    }
   ],
   "source": [
    "cursor.execute(\"select JOB_ID,length(JOB_ID) from workers\")\n",
    "cursor.fetchall()"
   ]
  },
  {
   "cell_type": "markdown",
   "id": "e65b8d46",
   "metadata": {},
   "source": [
    "<b>Q-3. Write an SQL query to fetch nth max salaries from a table.</b>"
   ]
  },
  {
   "cell_type": "code",
   "execution_count": 5,
   "id": "78e22478",
   "metadata": {
    "ExecuteTime": {
     "end_time": "2022-05-21T16:23:25.423344Z",
     "start_time": "2022-05-21T16:23:25.399378Z"
    }
   },
   "outputs": [
    {
     "data": {
      "text/plain": [
       "[('John', '8200'),\n",
       " ('Adam', '8200'),\n",
       " ('William', '8300'),\n",
       " ('Alexander', '9000'),\n",
       " ('Daniel', '9000')]"
      ]
     },
     "execution_count": 5,
     "metadata": {},
     "output_type": "execute_result"
    }
   ],
   "source": [
    "cursor.execute(\"(select FIRST_NAME,SALARY from workers order by SALARY desc limit 5) order by SALARY ASC\")\n",
    "cursor.fetchall()"
   ]
  }
 ],
 "metadata": {
  "kernelspec": {
   "display_name": "Python 3 (ipykernel)",
   "language": "python",
   "name": "python3"
  },
  "language_info": {
   "codemirror_mode": {
    "name": "ipython",
    "version": 3
   },
   "file_extension": ".py",
   "mimetype": "text/x-python",
   "name": "python",
   "nbconvert_exporter": "python",
   "pygments_lexer": "ipython3",
   "version": "3.8.5"
  },
  "toc": {
   "base_numbering": 1,
   "nav_menu": {},
   "number_sections": true,
   "sideBar": true,
   "skip_h1_title": false,
   "title_cell": "Table of Contents",
   "title_sidebar": "Contents",
   "toc_cell": false,
   "toc_position": {},
   "toc_section_display": true,
   "toc_window_display": false
  }
 },
 "nbformat": 4,
 "nbformat_minor": 5
}
