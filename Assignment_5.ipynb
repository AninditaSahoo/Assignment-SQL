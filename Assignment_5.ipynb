{
 "cells": [
  {
   "cell_type": "markdown",
   "id": "7ab4fa90",
   "metadata": {},
   "source": [
    "# Assignment SQL\n",
    "## Assignment -5 :"
   ]
  },
  {
   "cell_type": "code",
   "execution_count": 1,
   "id": "ad40a5e2",
   "metadata": {
    "ExecuteTime": {
     "end_time": "2022-05-21T16:59:42.212823Z",
     "start_time": "2022-05-21T16:59:41.520075Z"
    }
   },
   "outputs": [],
   "source": [
    "import mysql.connector as conn\n",
    "mydb = conn.connect(host = \"localhost\" , username = \"root\", passwd = \"Anindita@123\")\n",
    "cursor = mydb.cursor()"
   ]
  },
  {
   "cell_type": "code",
   "execution_count": 2,
   "id": "ee7f69a7",
   "metadata": {
    "ExecuteTime": {
     "end_time": "2022-05-21T16:59:43.453291Z",
     "start_time": "2022-05-21T16:59:43.427353Z"
    }
   },
   "outputs": [],
   "source": [
    "cursor.execute(\"use worker_db\")"
   ]
  },
  {
   "cell_type": "markdown",
   "id": "31f5caf9",
   "metadata": {},
   "source": [
    "<b>Q-1. Write an SQL query to print details of workers excluding first names, “Vipul” and “Satish” from Worker table.</b>"
   ]
  },
  {
   "cell_type": "code",
   "execution_count": 3,
   "id": "7cee2612",
   "metadata": {
    "ExecuteTime": {
     "end_time": "2022-05-21T16:59:45.635021Z",
     "start_time": "2022-05-21T16:59:45.569140Z"
    }
   },
   "outputs": [
    {
     "data": {
      "text/plain": [
       "[('100',\n",
       "  'Steven',\n",
       "  'King',\n",
       "  'SKING',\n",
       "  '515.123.4567',\n",
       "  '17-JUN-03',\n",
       "  'AD_PRES',\n",
       "  '24000',\n",
       "  ' - ',\n",
       "  ' - ',\n",
       "  '90'),\n",
       " ('101',\n",
       "  'Neena',\n",
       "  'Kochhar',\n",
       "  'NKOCHHAR',\n",
       "  '515.123.4568',\n",
       "  '21-SEP-05',\n",
       "  'AD_VP',\n",
       "  '17000',\n",
       "  ' - ',\n",
       "  '100',\n",
       "  '90'),\n",
       " ('128',\n",
       "  'Steven',\n",
       "  'Markle',\n",
       "  'SMARKLE',\n",
       "  '650.124.1434',\n",
       "  '08-MAR-08',\n",
       "  'ST_CLERK',\n",
       "  '2200',\n",
       "  ' - ',\n",
       "  '120',\n",
       "  '50')]"
      ]
     },
     "execution_count": 3,
     "metadata": {},
     "output_type": "execute_result"
    }
   ],
   "source": [
    "cursor.execute(\"select * from workers where FIRST_NAME = 'Steven' or FIRST_NAME = 'Neena'\")\n",
    "cursor.fetchall()"
   ]
  },
  {
   "cell_type": "markdown",
   "id": "caa78f8b",
   "metadata": {},
   "source": [
    "<b>Q-2. Write an SQL query to print details of the Workers whose FIRST_NAME ends with ‘h’ and contains six alphabets.</b>"
   ]
  },
  {
   "cell_type": "code",
   "execution_count": 4,
   "id": "c688090b",
   "metadata": {
    "ExecuteTime": {
     "end_time": "2022-05-21T16:59:48.178069Z",
     "start_time": "2022-05-21T16:59:48.149138Z"
    }
   },
   "outputs": [
    {
     "data": {
      "text/plain": [
       "[('Hermann',), ('Stephen',)]"
      ]
     },
     "execution_count": 4,
     "metadata": {},
     "output_type": "execute_result"
    }
   ],
   "source": [
    "cursor.execute(\"select FIRST_NAME from workers where FIRST_NAME like '______n'\")\n",
    "cursor.fetchall()"
   ]
  },
  {
   "cell_type": "markdown",
   "id": "1689c9ff",
   "metadata": {},
   "source": [
    "<b>Q-3. Write a query to validate Email of Employee.</b>"
   ]
  },
  {
   "cell_type": "code",
   "execution_count": 5,
   "id": "1a173b1a",
   "metadata": {
    "ExecuteTime": {
     "end_time": "2022-05-21T16:59:51.158713Z",
     "start_time": "2022-05-21T16:59:51.000194Z"
    }
   },
   "outputs": [
    {
     "name": "stdout",
     "output_type": "stream",
     "text": [
      "[('100', 'SKING')]\n"
     ]
    },
    {
     "data": {
      "text/plain": [
       "[('100', 'Changed EMAIL')]"
      ]
     },
     "execution_count": 5,
     "metadata": {},
     "output_type": "execute_result"
    }
   ],
   "source": [
    "cursor.execute(\"select EMPLOYEE_ID,EMAIL from workers where EMPLOYEE_ID = '100'\")\n",
    "print(cursor.fetchall())\n",
    "cursor.execute(\"update workers set EMAIL = 'Changed EMAIL' where EMPLOYEE_ID = 100\")\n",
    "cursor.execute(\"select EMPLOYEE_ID,EMAIL from workers where EMPLOYEE_ID = '100'\")\n",
    "cursor.fetchall()"
   ]
  }
 ],
 "metadata": {
  "kernelspec": {
   "display_name": "Python 3 (ipykernel)",
   "language": "python",
   "name": "python3"
  },
  "language_info": {
   "codemirror_mode": {
    "name": "ipython",
    "version": 3
   },
   "file_extension": ".py",
   "mimetype": "text/x-python",
   "name": "python",
   "nbconvert_exporter": "python",
   "pygments_lexer": "ipython3",
   "version": "3.8.5"
  },
  "toc": {
   "base_numbering": 1,
   "nav_menu": {},
   "number_sections": true,
   "sideBar": true,
   "skip_h1_title": false,
   "title_cell": "Table of Contents",
   "title_sidebar": "Contents",
   "toc_cell": false,
   "toc_position": {},
   "toc_section_display": true,
   "toc_window_display": false
  }
 },
 "nbformat": 4,
 "nbformat_minor": 5
}
