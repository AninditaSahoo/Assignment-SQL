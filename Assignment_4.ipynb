{
 "cells": [
  {
   "cell_type": "markdown",
   "id": "3995a15e",
   "metadata": {},
   "source": [
    "# Assignment SQL\n",
    "## Assignment -4 :"
   ]
  },
  {
   "cell_type": "code",
   "execution_count": 1,
   "id": "51d568f6",
   "metadata": {
    "ExecuteTime": {
     "end_time": "2022-05-21T16:26:53.628792Z",
     "start_time": "2022-05-21T16:26:52.558317Z"
    }
   },
   "outputs": [],
   "source": [
    "import mysql.connector as conn\n",
    "mydb = conn.connect(host = \"localhost\" , username = \"root\", passwd = \"Anindita@123\")\n",
    "cursor = mydb.cursor()"
   ]
  },
  {
   "cell_type": "code",
   "execution_count": 2,
   "id": "f120b4b1",
   "metadata": {
    "ExecuteTime": {
     "end_time": "2022-05-21T16:27:09.446277Z",
     "start_time": "2022-05-21T16:27:09.427328Z"
    }
   },
   "outputs": [],
   "source": [
    "cursor.execute(\"use worker_db\")"
   ]
  },
  {
   "cell_type": "markdown",
   "id": "7259921c",
   "metadata": {},
   "source": [
    "<b>Q-1. Write an SQL query to print the FIRST_NAME from Worker table after replacing ‘a’ with ‘A’.</b>"
   ]
  },
  {
   "cell_type": "code",
   "execution_count": 8,
   "id": "0ee579c7",
   "metadata": {
    "ExecuteTime": {
     "end_time": "2022-05-21T16:38:03.449609Z",
     "start_time": "2022-05-21T16:38:03.405722Z"
    }
   },
   "outputs": [
    {
     "data": {
      "text/plain": [
       "[('Donald', 'DonAld'),\n",
       " ('Douglas', 'DouglAs'),\n",
       " ('Jennifer', 'Jennifer'),\n",
       " ('Michael', 'MichAel'),\n",
       " ('Pat', 'PAt'),\n",
       " ('Susan', 'SusAn'),\n",
       " ('Hermann', 'HermAnn'),\n",
       " ('Shelley', 'Shelley'),\n",
       " ('William', 'WilliAm'),\n",
       " ('Steven', 'Steven'),\n",
       " ('Neena', 'NeenA'),\n",
       " ('Lex', 'Lex'),\n",
       " ('Alexander', 'AlexAnder'),\n",
       " ('Bruce', 'Bruce'),\n",
       " ('David', 'DAvid'),\n",
       " ('Valli', 'VAlli'),\n",
       " ('Diana', 'DiAnA'),\n",
       " ('Nancy', 'NAncy'),\n",
       " ('Daniel', 'DAniel'),\n",
       " ('John', 'John'),\n",
       " ('Ismael', 'IsmAel'),\n",
       " ('Jose Manuel', 'Jose MAnuel'),\n",
       " ('Luis', 'Luis'),\n",
       " ('Den', 'Den'),\n",
       " ('Alexander', 'AlexAnder'),\n",
       " ('Shelli', 'Shelli'),\n",
       " ('Sigal', 'SigAl'),\n",
       " ('Guy', 'Guy'),\n",
       " ('Karen', 'KAren'),\n",
       " ('Matthew', 'MAtthew'),\n",
       " ('Adam', 'AdAm'),\n",
       " ('Payam', 'PAyAm'),\n",
       " ('Shanta', 'ShAntA'),\n",
       " ('Kevin', 'Kevin'),\n",
       " ('Julia', 'JuliA'),\n",
       " ('Irene', 'Irene'),\n",
       " ('James', 'JAmes'),\n",
       " ('Steven', 'Steven'),\n",
       " ('Laura', 'LAurA'),\n",
       " ('Mozhe', 'Mozhe'),\n",
       " ('James', 'JAmes'),\n",
       " ('TJ', 'TJ'),\n",
       " ('Jason', 'JAson'),\n",
       " ('Michael', 'MichAel'),\n",
       " ('Ki', 'Ki'),\n",
       " ('Hazel', 'HAzel'),\n",
       " ('Renske', 'Renske'),\n",
       " ('Stephen', 'Stephen'),\n",
       " ('John', 'John'),\n",
       " ('Joshua', 'JoshuA')]"
      ]
     },
     "execution_count": 8,
     "metadata": {},
     "output_type": "execute_result"
    }
   ],
   "source": [
    "cursor.execute(\"SELECT FIRST_NAME,REPLACE(FIRST_NAME, 'a', 'A') from workers\")\n",
    "cursor.fetchall()"
   ]
  },
  {
   "cell_type": "markdown",
   "id": "c29169c6",
   "metadata": {},
   "source": [
    "<b>Q-2. Write an SQL query to print all Worker details from the Worker table order by FIRST_NAME Ascending and DEPARTMENT Descending.</b>"
   ]
  },
  {
   "cell_type": "code",
   "execution_count": 14,
   "id": "c73257bf",
   "metadata": {
    "ExecuteTime": {
     "end_time": "2022-05-21T16:45:24.519929Z",
     "start_time": "2022-05-21T16:45:24.489951Z"
    }
   },
   "outputs": [
    {
     "data": {
      "text/plain": [
       "[('Adam', '50'),\n",
       " ('Alexander', '30'),\n",
       " ('Alexander', '60'),\n",
       " ('Bruce', '60'),\n",
       " ('Daniel', '100'),\n",
       " ('David', '60'),\n",
       " ('Den', '30'),\n",
       " ('Diana', '60'),\n",
       " ('Donald', '50'),\n",
       " ('Douglas', '50')]"
      ]
     },
     "execution_count": 14,
     "metadata": {},
     "output_type": "execute_result"
    }
   ],
   "source": [
    "cursor.execute(\"(select FIRST_NAME,DEPARTMENT_ID from workers order by DEPARTMENT_ID desc) order by FIRST_NAME limit 10\")\n",
    "cursor.fetchall()"
   ]
  },
  {
   "cell_type": "markdown",
   "id": "0865d1bb",
   "metadata": {},
   "source": [
    "<b>Q-3. Write an SQL query to fetch the names of workers who earn the highest salary.</b>"
   ]
  },
  {
   "cell_type": "code",
   "execution_count": 15,
   "id": "9257e55f",
   "metadata": {
    "ExecuteTime": {
     "end_time": "2022-05-21T16:47:18.566881Z",
     "start_time": "2022-05-21T16:47:18.539899Z"
    }
   },
   "outputs": [
    {
     "data": {
      "text/plain": [
       "[('Alexander', '9000'), ('Daniel', '9000')]"
      ]
     },
     "execution_count": 15,
     "metadata": {},
     "output_type": "execute_result"
    }
   ],
   "source": [
    "cursor.execute(\"select FIRST_NAME,SALARY from workers where SALARY = (Select max(SALARY) from workers)\")\n",
    "cursor.fetchall()"
   ]
  }
 ],
 "metadata": {
  "kernelspec": {
   "display_name": "Python 3 (ipykernel)",
   "language": "python",
   "name": "python3"
  },
  "language_info": {
   "codemirror_mode": {
    "name": "ipython",
    "version": 3
   },
   "file_extension": ".py",
   "mimetype": "text/x-python",
   "name": "python",
   "nbconvert_exporter": "python",
   "pygments_lexer": "ipython3",
   "version": "3.8.5"
  },
  "toc": {
   "base_numbering": 1,
   "nav_menu": {},
   "number_sections": true,
   "sideBar": true,
   "skip_h1_title": false,
   "title_cell": "Table of Contents",
   "title_sidebar": "Contents",
   "toc_cell": false,
   "toc_position": {},
   "toc_section_display": true,
   "toc_window_display": false
  }
 },
 "nbformat": 4,
 "nbformat_minor": 5
}
