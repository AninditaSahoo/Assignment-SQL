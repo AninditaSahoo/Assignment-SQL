{
 "cells": [
  {
   "cell_type": "markdown",
   "id": "4a001f92",
   "metadata": {},
   "source": [
    "# Assignment SQL\n",
    "## Assignment -2 :"
   ]
  },
  {
   "cell_type": "code",
   "execution_count": 1,
   "id": "20237640",
   "metadata": {
    "ExecuteTime": {
     "end_time": "2022-05-21T14:17:31.608761Z",
     "start_time": "2022-05-21T14:17:30.384064Z"
    }
   },
   "outputs": [],
   "source": [
    "import mysql.connector as conn\n",
    "mydb = conn.connect(host = \"localhost\" , username = \"root\", passwd = \"Anindita@123\")\n",
    "cursor = mydb.cursor()"
   ]
  },
  {
   "cell_type": "code",
   "execution_count": 2,
   "id": "13fe24c1",
   "metadata": {
    "ExecuteTime": {
     "end_time": "2022-05-21T14:17:55.282145Z",
     "start_time": "2022-05-21T14:17:55.270121Z"
    }
   },
   "outputs": [],
   "source": [
    "cursor.execute(\"use worker_db\")"
   ]
  },
  {
   "cell_type": "markdown",
   "id": "15a4e1fa",
   "metadata": {},
   "source": [
    "<b>Q-1. Write an SQL query to print the first three characters of  FIRST_NAME from Worker table.</b>"
   ]
  },
  {
   "cell_type": "code",
   "execution_count": 11,
   "id": "4499ff59",
   "metadata": {
    "ExecuteTime": {
     "end_time": "2022-05-21T14:22:06.310446Z",
     "start_time": "2022-05-21T14:22:06.272542Z"
    }
   },
   "outputs": [
    {
     "data": {
      "text/plain": [
       "[('Don',),\n",
       " ('Dou',),\n",
       " ('Jen',),\n",
       " ('Mic',),\n",
       " ('Pat',),\n",
       " ('Sus',),\n",
       " ('Her',),\n",
       " ('She',),\n",
       " ('Wil',),\n",
       " ('Ste',),\n",
       " ('Nee',),\n",
       " ('Lex',),\n",
       " ('Ale',),\n",
       " ('Bru',),\n",
       " ('Dav',),\n",
       " ('Val',),\n",
       " ('Dia',),\n",
       " ('Nan',),\n",
       " ('Dan',),\n",
       " ('Joh',),\n",
       " ('Ism',),\n",
       " ('Jos',),\n",
       " ('Lui',),\n",
       " ('Den',),\n",
       " ('Ale',),\n",
       " ('She',),\n",
       " ('Sig',),\n",
       " ('Guy',),\n",
       " ('Kar',),\n",
       " ('Mat',),\n",
       " ('Ada',),\n",
       " ('Pay',),\n",
       " ('Sha',),\n",
       " ('Kev',),\n",
       " ('Jul',),\n",
       " ('Ire',),\n",
       " ('Jam',),\n",
       " ('Ste',),\n",
       " ('Lau',),\n",
       " ('Moz',),\n",
       " ('Jam',),\n",
       " ('TJ',),\n",
       " ('Jas',),\n",
       " ('Mic',),\n",
       " ('Ki',),\n",
       " ('Haz',),\n",
       " ('Ren',),\n",
       " ('Ste',),\n",
       " ('Joh',),\n",
       " ('Jos',)]"
      ]
     },
     "execution_count": 11,
     "metadata": {},
     "output_type": "execute_result"
    }
   ],
   "source": [
    "cursor.execute(\"select substring(FIRST_NAME,1,3) from workers\")\n",
    "cursor.fetchall()"
   ]
  },
  {
   "cell_type": "markdown",
   "id": "256573e6",
   "metadata": {},
   "source": [
    "<b>Q-2. Write an SQL query to find the position of the alphabet (‘a’) in the first name column ‘Amitabh’ from Worker table.</b>"
   ]
  },
  {
   "cell_type": "code",
   "execution_count": 14,
   "id": "9414467f",
   "metadata": {
    "ExecuteTime": {
     "end_time": "2022-05-21T14:25:39.290951Z",
     "start_time": "2022-05-21T14:25:39.257036Z"
    }
   },
   "outputs": [
    {
     "data": {
      "text/plain": [
       "[(4, 'Donald'),\n",
       " (6, 'Douglas'),\n",
       " (0, 'Jennifer'),\n",
       " (5, 'Michael'),\n",
       " (2, 'Pat'),\n",
       " (4, 'Susan'),\n",
       " (5, 'Hermann'),\n",
       " (0, 'Shelley'),\n",
       " (6, 'William'),\n",
       " (0, 'Steven'),\n",
       " (5, 'Neena'),\n",
       " (0, 'Lex'),\n",
       " (1, 'Alexander'),\n",
       " (0, 'Bruce'),\n",
       " (2, 'David'),\n",
       " (2, 'Valli'),\n",
       " (3, 'Diana'),\n",
       " (2, 'Nancy'),\n",
       " (2, 'Daniel'),\n",
       " (0, 'John'),\n",
       " (4, 'Ismael'),\n",
       " (7, 'Jose Manuel'),\n",
       " (0, 'Luis'),\n",
       " (0, 'Den'),\n",
       " (1, 'Alexander'),\n",
       " (0, 'Shelli'),\n",
       " (4, 'Sigal'),\n",
       " (0, 'Guy'),\n",
       " (2, 'Karen'),\n",
       " (2, 'Matthew'),\n",
       " (1, 'Adam'),\n",
       " (2, 'Payam'),\n",
       " (3, 'Shanta'),\n",
       " (0, 'Kevin'),\n",
       " (5, 'Julia'),\n",
       " (0, 'Irene'),\n",
       " (2, 'James'),\n",
       " (0, 'Steven'),\n",
       " (2, 'Laura'),\n",
       " (0, 'Mozhe'),\n",
       " (2, 'James'),\n",
       " (0, 'TJ'),\n",
       " (2, 'Jason'),\n",
       " (5, 'Michael'),\n",
       " (0, 'Ki'),\n",
       " (2, 'Hazel'),\n",
       " (0, 'Renske'),\n",
       " (0, 'Stephen'),\n",
       " (0, 'John'),\n",
       " (6, 'Joshua')]"
      ]
     },
     "execution_count": 14,
     "metadata": {},
     "output_type": "execute_result"
    }
   ],
   "source": [
    "cursor.execute(\"SELECT LOCATE('a', FIRST_NAME),FIRST_NAME from workers\")\n",
    "cursor.fetchall()"
   ]
  },
  {
   "cell_type": "markdown",
   "id": "d6039642",
   "metadata": {},
   "source": [
    "<b>Q-3. Write an SQL query to print the name of employees having the highest salary in each department.</b>"
   ]
  },
  {
   "cell_type": "code",
   "execution_count": 24,
   "id": "12e2891f",
   "metadata": {
    "ExecuteTime": {
     "end_time": "2022-05-21T14:33:18.154045Z",
     "start_time": "2022-05-21T14:33:18.121086Z"
    }
   },
   "outputs": [
    {
     "data": {
      "text/plain": [
       "[('Alexander', '9000'), ('Daniel', '9000')]"
      ]
     },
     "execution_count": 24,
     "metadata": {},
     "output_type": "execute_result"
    }
   ],
   "source": [
    "cursor.execute(\"select FIRST_NAME, SALARY from workers where SALARY = (select max(salary) from workers)\")\n",
    "cursor.fetchall()"
   ]
  }
 ],
 "metadata": {
  "kernelspec": {
   "display_name": "Python 3 (ipykernel)",
   "language": "python",
   "name": "python3"
  },
  "language_info": {
   "codemirror_mode": {
    "name": "ipython",
    "version": 3
   },
   "file_extension": ".py",
   "mimetype": "text/x-python",
   "name": "python",
   "nbconvert_exporter": "python",
   "pygments_lexer": "ipython3",
   "version": "3.8.5"
  },
  "toc": {
   "base_numbering": 1,
   "nav_menu": {},
   "number_sections": true,
   "sideBar": true,
   "skip_h1_title": false,
   "title_cell": "Table of Contents",
   "title_sidebar": "Contents",
   "toc_cell": false,
   "toc_position": {},
   "toc_section_display": true,
   "toc_window_display": false
  }
 },
 "nbformat": 4,
 "nbformat_minor": 5
}
